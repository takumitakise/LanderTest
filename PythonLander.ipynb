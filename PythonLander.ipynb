{
  "nbformat": 4,
  "nbformat_minor": 0,
  "metadata": {
    "colab": {
      "name": "PythonLander.ipynb",
      "provenance": [],
      "collapsed_sections": [],
      "authorship_tag": "ABX9TyOJXT6AlV0q0Ges/mYjFIfE",
      "include_colab_link": true
    },
    "kernelspec": {
      "name": "python3",
      "display_name": "Python 3"
    }
  },
  "cells": [
    {
      "cell_type": "markdown",
      "metadata": {
        "id": "view-in-github",
        "colab_type": "text"
      },
      "source": [
        "<a href=\"https://colab.research.google.com/github/takumitakise/LanderTest/blob/main/PythonLander.ipynb\" target=\"_parent\"><img src=\"https://colab.research.google.com/assets/colab-badge.svg\" alt=\"Open In Colab\"/></a>"
      ]
    },
    {
      "cell_type": "code",
      "metadata": {
        "id": "sqNzTS7uFjKM"
      },
      "source": [
        "import sympy as sym\n",
        "import numpy as np"
      ],
      "execution_count": null,
      "outputs": []
    },
    {
      "cell_type": "code",
      "metadata": {
        "id": "lL3uMMfQG_KZ"
      },
      "source": [
        "x1_sym = sym.symbols(\"x1\")\n",
        "x2_sym = sym.symbols(\"x2\")\n",
        "x3_sym = sym.symbols(\"x3\")\n",
        "x4_sym = sym.symbols(\"x4\")\n",
        "x5_sym = sym.symbols(\"x5\")\n",
        "x6_sym = sym.symbols(\"x6\")\n",
        "x7_sym = sym.symbols(\"x7\")\n",
        "x8_sym = sym.symbols(\"x8\")\n",
        "x9_sym = sym.symbols(\"x9\")\n",
        "x10_sym = sym.symbols(\"x10\")\n",
        "x_sym = sym.Matrix([x1_sym,x2_sym,x3_sym,x4_sym,x5_sym,x6_sym,x7_sym,x8_sym,x9_sym,x10_sym])"
      ],
      "execution_count": null,
      "outputs": []
    },
    {
      "cell_type": "code",
      "metadata": {
        "id": "oixVAuFRIXG9"
      },
      "source": [
        "u1_sym = sym.symbols(\"u1\")\n",
        "u2_sym = sym.symbols(\"u2\")\n",
        "u3_sym = sym.symbols(\"u3\")\n",
        "u4_sym = sym.symbols(\"u4\")\n",
        "u5_sym = sym.symbols(\"u5\")\n",
        "u6_sym = sym.symbols(\"u6\")\n",
        "u_sym = sym.Matrix([u1_sym,u2_sym,u3_sym,u4_sym,u5_sym,u6_sym])"
      ],
      "execution_count": null,
      "outputs": []
    },
    {
      "cell_type": "code",
      "metadata": {
        "id": "849IITLMJCad"
      },
      "source": [
        "R_sym = sym.Matrix([[2 * x4_sym**2 - 1 + 2 * x5_sym**2, 2 * ( x5_sym * x6_sym + x4_sym * x7_sym ), 2 * ( x5_sym * x7_sym - x4_sym * x6_sym )],\n",
        "              [2 * ( x5_sym * x6_sym - x4_sym * x7_sym ), 2 * x4_sym**2 - 1 + 2 * x6_sym**2, 2 * ( x6_sym * x7_sym + x4_sym * x5_sym )],\n",
        "              [2 * ( x5_sym * x7_sym + x4_sym * x6_sym ), 2 * ( x6_sym * x7_sym - x4_sym * x5_sym ), 2 * x4_sym**2 - 1 + 2 * x7_sym**2]])"
      ],
      "execution_count": null,
      "outputs": []
    },
    {
      "cell_type": "code",
      "metadata": {
        "id": "Ub8UPB72JFdw"
      },
      "source": [
        "m_sym = sym.symbols(\"m\")\n",
        "g_sym = sym.symbols(\"g\")\n",
        "dx_x_sym = sym.symbols(\"dx_x\")\n",
        "dx_y_sym = sym.symbols(\"dx_y\")\n",
        "dx_z_sym = sym.symbols(\"dx_z\")\n",
        "dy_x_sym = sym.symbols(\"dy_x\")\n",
        "dy_y_sym = sym.symbols(\"dy_y\")\n",
        "dy_z_sym = sym.symbols(\"dy_z\")\n",
        "J1_sym = sym.symbols(\"J1\")\n",
        "J2_sym = sym.symbols(\"J2\")\n",
        "J3_sym = sym.symbols(\"J3\")\n",
        "M_sym = sym.Matrix([[m_sym, 0, 0], [0, m_sym, 0], [0, 0, m_sym]])\n",
        "J_sym = sym.Matrix([[J1_sym, 0, 0], [0, J2_sym, 0], [0, 0, J3_sym]])"
      ],
      "execution_count": null,
      "outputs": []
    },
    {
      "cell_type": "code",
      "metadata": {
        "id": "eXcuy-aWJqN0"
      },
      "source": [
        "Location_2dot_sym = M_sym**(-1) * ( R_sym * sym.Matrix( [0, 0, - m_sym * g_sym] ) + sym.Matrix([u1_sym, u2_sym, 0]) \\\n",
        "                            - sym.Matrix([[0, - x10_sym, x9_sym], [x10_sym, 0, - x8_sym], [- x9_sym, x8_sym, 0]]) * M_sym * sym.Matrix([x1_sym, x2_sym, x3_sym]) )"
      ],
      "execution_count": null,
      "outputs": []
    },
    {
      "cell_type": "code",
      "metadata": {
        "id": "G3o2RTnLJ2Rq"
      },
      "source": [
        "quaternion_dot_sym = 1 / 2 * sym.Matrix([[0, - x8_sym, - x9_sym, - x10_sym], [x8_sym, 0, x10_sym, - x9_sym], [x9_sym, - x10_sym, 0, x8_sym], [x10_sym, x9_sym, - x8_sym, 0]]) * sym.Matrix([x4_sym, x5_sym, x6_sym, x7_sym])"
      ],
      "execution_count": null,
      "outputs": []
    },
    {
      "cell_type": "code",
      "metadata": {
        "id": "Aei3BtgHJ5tT"
      },
      "source": [
        "omega_dot_sym = J_sym**(-1) * sym.Matrix([[0, - dx_z_sym, dx_y_sym], [dx_z_sym, 0, - dx_x_sym], [-dx_y_sym, dx_x_sym, 0]]) * sym.Matrix([u1_sym, 0, 0]) \\\n",
        "            + sym.Matrix([[0, - dy_z_sym, dy_y_sym], [dy_z_sym, 0, - dy_x_sym], [- dy_y_sym, dy_x_sym, 0]]) * sym.Matrix([0, u2_sym, 0])\\\n",
        "            - sym.Matrix([[0, - x10_sym, x9_sym], [x10_sym, 0, - x8_sym], [- x9_sym, x8_sym, 0]]) * J_sym * sym.Matrix([x8_sym, x9_sym, x10_sym])"
      ],
      "execution_count": null,
      "outputs": []
    },
    {
      "cell_type": "code",
      "metadata": {
        "id": "Sv1MXd1FKALF"
      },
      "source": [
        "func_sym = sym.Matrix([Location_2dot_sym,quaternion_dot_sym,omega_dot_sym])"
      ],
      "execution_count": null,
      "outputs": []
    },
    {
      "cell_type": "code",
      "metadata": {
        "id": "dgotiZJfKho3"
      },
      "source": [
        "uxmax_sym = sym.symbols(\"uxmax\")\n",
        "uymax_sym = sym.symbols(\"uymax\")\n",
        "Cx_sym = sym.Matrix([u1_sym**2 - uxmax_sym**2 + u3_sym**2])\n",
        "Cy_sym = sym.Matrix([u2_sym**2 - uymax_sym**2 + u4_sym**2])"
      ],
      "execution_count": null,
      "outputs": []
    },
    {
      "cell_type": "code",
      "metadata": {
        "id": "4vRGP3HMQYRy"
      },
      "source": [
        "mini_sym = sym.Matrix([x1_sym, x2_sym, x3_sym - (x1_sym**2 + x2_sym**2 + x3_sym**2)**(1/2)])"
      ],
      "execution_count": null,
      "outputs": []
    },
    {
      "cell_type": "code",
      "metadata": {
        "id": "IP7s7tVCUUpX"
      },
      "source": [
        "sf1_sym = sym.symbols(\"sf1\")\n",
        "sf2_sym = sym.symbols(\"sf2\")\n",
        "sf3_sym = sym.symbols(\"sf3\")\n",
        "q1_sym = sym.symbols(\"q1\")\n",
        "q2_sym = sym.symbols(\"q2\")\n",
        "q3_sym = sym.symbols(\"q3\")\n",
        "r1_sym = sym.symbols(\"r1\")\n",
        "r2_sym = sym.symbols(\"r2\")\n",
        "r3_sym = sym.symbols(\"r3\")\n",
        "r4_sym = sym.symbols(\"r4\")\n",
        "Sf_sym = sym.Matrix([[sf1_sym, 0, 0],[0, sf2_sym, 0],[0, 0, sf3_sym]])\n",
        "Q_sym = sym.Matrix([[q1_sym, 0, 0],[0, q2_sym, 0],[0, 0, q3_sym]])\n",
        "r_sym = sym.Matrix([[r1_sym, 0, 0, 0],[0, r2_sym, 0, 0],[0, 0, r3_sym, 0],[0, 0, 0, r4_sym]])"
      ],
      "execution_count": null,
      "outputs": []
    },
    {
      "cell_type": "code",
      "metadata": {
        "id": "q-LjcLImUvx-"
      },
      "source": [
        "Phi_sym = 1/2 * mini_sym.T * Sf_sym * mini_sym\n",
        "L_sym = 1/2 * (mini_sym.T * Q_sym * mini_sym + sym.Matrix([r1_sym * u1_sym**2 + r2_sym * u2_sym**2])) - sym.Matrix([r3_sym * u3_sym - r4_sym * u4_sym])\n",
        "Phix_sym = Phi_sym.jacobian(x_sym).T"
      ],
      "execution_count": null,
      "outputs": []
    },
    {
      "cell_type": "code",
      "metadata": {
        "id": "khD5QFr1WRSI"
      },
      "source": [
        "lmd1_sym = sym.symbols(\"lmd1\")\n",
        "lmd2_sym = sym.symbols(\"lmd2\")\n",
        "lmd3_sym = sym.symbols(\"lmd3\")\n",
        "lmd4_sym = sym.symbols(\"lmd4\")\n",
        "lmd5_sym = sym.symbols(\"lmd5\")\n",
        "lmd6_sym = sym.symbols(\"lmd6\")\n",
        "lmd7_sym = sym.symbols(\"lmd7\")\n",
        "lmd8_sym = sym.symbols(\"lmd8\")\n",
        "lmd9_sym = sym.symbols(\"lmd9\")\n",
        "lmd10_sym = sym.symbols(\"lmd10\")\n",
        "Lmd_sym = sym.Matrix([lmd1_sym,lmd2_sym,lmd3_sym,lmd4_sym,lmd5_sym,lmd6_sym,lmd7_sym,lmd8_sym,lmd9_sym,lmd10_sym])"
      ],
      "execution_count": null,
      "outputs": []
    },
    {
      "cell_type": "code",
      "metadata": {
        "id": "fDVj-kz9Wnde"
      },
      "source": [
        "H_sym = L_sym + (Lmd_sym).T * func_sym + u5_sym * Cx_sym + u6_sym * Cy_sym\n",
        "Hu_sym = H_sym.jacobian(u_sym).T\n",
        "Hx_sym = H_sym.jacobian(x_sym).T\n",
        "Huu_sym = Hu_sym.jacobian(u_sym).T"
      ],
      "execution_count": null,
      "outputs": []
    },
    {
      "cell_type": "code",
      "metadata": {
        "id": "lrMyESzaa9vZ"
      },
      "source": [
        "param_sym = sym.Matrix([m_sym,g_sym,dx_x_sym,dx_y_sym,dx_z_sym,dy_x_sym,dy_y_sym,dy_z_sym,J1_sym,J2_sym,J3_sym,uxmax_sym,uymax_sym])\n",
        "contr_sym = sym.Matrix([sf1_sym,sf2_sym,sf3_sym,q1_sym,q2_sym,q3_sym,r1_sym,r2_sym,r3_sym,r4_sym])"
      ],
      "execution_count": null,
      "outputs": []
    },
    {
      "cell_type": "code",
      "metadata": {
        "id": "JrhFsPvCchKS"
      },
      "source": [
        "func_sym2num = sym.lambdify((x_sym,u_sym,param_sym), func_sym, \"numpy\")\n",
        "Phix_sym2num = sym.lambdify((x_sym,param_sym,contr_sym), Phix_sym, \"numpy\")\n",
        "Hu_sym2num = sym.lambdify((x_sym,u_sym,Lmd_sym,param_sym,contr_sym), Hu_sym, \"numpy\")\n",
        "Hx_sym2num = sym.lambdify((x_sym,u_sym,Lmd_sym,param_sym,contr_sym), Hx_sym, \"numpy\")\n",
        "Huu_sym2num = sym.lambdify((u_sym,contr_sym), Huu_sym, \"numpy\")"
      ],
      "execution_count": null,
      "outputs": []
    },
    {
      "cell_type": "code",
      "metadata": {
        "id": "CfQ2ljqan1Dc"
      },
      "source": [
        "def GMRES(x_current,du,u,param,contr,len_x,len_u,len_lmd,T,dv,ht,zeta):\n",
        "  k = len_u * dv\n",
        "  dx = func_func(x_current,u[0:len_u],param)\n",
        "  Fxt = CalcF(x_current+dx*ht,u,param,contr,len_x,len_u,len_lmd,T,dv)\n",
        "  F = CalcF(x_current,u,param,contr,len_x,len_u,len_lmd,T,dv)\n",
        "  Right = -zeta * F - ( Fxt-F ) / ht\n",
        "  Fuxt = CalcF(x_current+dx*ht,u+du*ht,param,contr,len_x,len_u,len_lmd,T,dv)\n",
        "  Left = ( Fuxt - Fxt ) / ht\n",
        "\n",
        "  r0 = Right - Left\n",
        "  du_new = np.zeros([k, 1])\n",
        "  v = np.zeros([k, k + 1])\n",
        "  r0_norm = np.linalg.norm(r0)\n",
        "  v[:,[0]] = r0 / r0_norm\n",
        "  h = np.zeros([k+1,k+1])\n",
        "  y = np.zeros([k, 1])\n",
        "  y_pre = np.zeros([k, 1])\n",
        "  e = np.zeros([k+1,1])\n",
        "  e[1] = 1\n",
        "\n",
        "  for num in range(k):\n",
        "    Fuxt = CalcF(x_current+dx*ht,u+v[:,[num+1]]*ht,param,contr,len_x,len_u,len_lmd,T,dv)\n",
        "    Av = ( Fuxt - Fxt ) / ht\n",
        "    Sum = np.zeros([k, 1])\n",
        "\n",
        "    for num2 in range(num+1):\n",
        "      h[num2,num] = np.dot(Av.T, v[:,num2])\n",
        "      Sum = Sum + h[num2,num] * v[:,num2].reshape(1, -1).T\n",
        "    \n",
        "    v_est = Av - Sum\n",
        "    h[num+1,num] = np.linalg.norm(v_est)\n",
        "    v[:,[num+1]] = v_est / h[num+1,num]\n",
        "    inv_h = np.linalg.pinv(h[0:num+1,0:num])\n",
        "    y[0:num] =  np.dot(inv_h, r0_norm * e[:num+1])\n",
        "    judge_value = r0_norm * e[:num+1] - np.dot(h[0:num+1, 0:num], y[0:num])\n",
        "    if np.linalg.norm(judge_value) < 0.001:\n",
        "      du_new = du + np.dot(v[:,0:num], y_pre[0:num])\n",
        "      return du_new\n",
        "      break"
      ],
      "execution_count": null,
      "outputs": []
    },
    {
      "cell_type": "code",
      "metadata": {
        "id": "tFZLa6hvoH_i"
      },
      "source": [
        "def Forward(x_current,u,param,len_x,len_u,T,dv):\n",
        "  dt = T / dv\n",
        "  x = np.zeros([dv,len_x])\n",
        "  x[0,:] = x_current\n",
        "  for num in range(dv-1):\n",
        "    x[num+1,:] = x[num,:] + func_sym2num(x[num,:],u[num,:],param).T * dt\n",
        "  return x"
      ],
      "execution_count": null,
      "outputs": []
    },
    {
      "cell_type": "code",
      "metadata": {
        "id": "C14WL2YW1RHX"
      },
      "source": [
        "def Backward(x,u,param,contr,len_x,len_u,len_lmd,T,dv):\n",
        "  dt = T / dv\n",
        "  lmd = np.zeros([dv,len_lmd])\n",
        "  lmd[dv-1,:] = Phix_sym2num(x[(dv-1),:],param,contr).T\n",
        "  for num in range(0, dv-1)[::-1]:\n",
        "    lmd[dv-(num+1),:] = lmd[dv-(num+2),:] + Hx_sym2num(x[dv-(num+2),:],u[dv-(num+2),:],lmd[dv-(num+2),:],param,contr).T * dt\n",
        "  return lmd"
      ],
      "execution_count": null,
      "outputs": []
    },
    {
      "cell_type": "code",
      "metadata": {
        "id": "tDaLASlW-Znq"
      },
      "source": [
        "def CalcF(x_current,u,param,contr,len_x,len_u,len_lmd,T,dv):\n",
        "  x = Forward(x_current,u,param,len_x,len_u,T,dv)\n",
        "  lmd = Backward(x,u,param,contr,len_x,len_u,len_lmd,T,dv)\n",
        "  F = np.zeros([dv,len_u])\n",
        "  for num in range(dv):\n",
        "    F[num,:] = Hu_sym2num(x[num,:],u[num,:],lmd[num,:],param,contr).T\n",
        "  return F"
      ],
      "execution_count": null,
      "outputs": []
    },
    {
      "cell_type": "code",
      "metadata": {
        "id": "7V5l4MWLpaof"
      },
      "source": [
        "param = np.array([50,3.71,0,0,-1,0,0,-1,1,1,4,10,10])\n",
        "contr = np.array([.5,.5, 5,1.0,1.0,1.0,10.0,10.0,10,10])\n",
        "len_x = 10\n",
        "len_u = 6\n",
        "len_lmd = len_x\n",
        "dv = 10\n",
        "T = 1\n",
        "x_current = np.array([1., 2., 3., 4., 5., 6., 7., 8., 9., 1.0])\n",
        "input = np.array([.1, .2, .3, .4, .5, .6])\n",
        "u = np.zeros([dv,len_u])\n",
        "for num in range(0,dv):\n",
        "  u[num,:] = input"
      ],
      "execution_count": null,
      "outputs": []
    },
    {
      "cell_type": "code",
      "metadata": {
        "colab": {
          "base_uri": "https://localhost:8080/"
        },
        "id": "eD3inTu8v5tx",
        "outputId": "054f0774-c2a6-4de6-a976-3f57b178a7ba"
      },
      "source": [
        "CalcF(x_current,u,param,contr,len_x,len_u,len_lmd,T,dv)"
      ],
      "execution_count": null,
      "outputs": [
        {
          "output_type": "execute_result",
          "data": {
            "text/plain": [
              "array([[ 1.10000000e+00,  2.24000000e+00, -9.70000000e+00,\n",
              "         1.04800000e+01, -9.99000000e+01, -9.98000000e+01],\n",
              "       [ 1.10239643e+00,  2.24479287e+00, -9.70000000e+00,\n",
              "         1.04800000e+01, -9.99000000e+01, -9.98000000e+01],\n",
              "       [ 4.88753660e-01,  8.64491662e-01, -9.70000000e+00,\n",
              "         1.04800000e+01, -9.99000000e+01, -9.98000000e+01],\n",
              "       [ 3.69163894e+01, -1.36208142e+02, -9.70000000e+00,\n",
              "         1.04800000e+01, -9.99000000e+01, -9.98000000e+01],\n",
              "       [ 3.84820925e+02, -7.11774578e+02, -9.70000000e+00,\n",
              "         1.04800000e+01, -9.99000000e+01, -9.98000000e+01],\n",
              "       [ 4.72276868e+03,  8.95092067e+02, -9.70000000e+00,\n",
              "         1.04800000e+01, -9.99000000e+01, -9.98000000e+01],\n",
              "       [ 2.21986792e+04,  1.44350670e+04, -9.70000000e+00,\n",
              "         1.04800000e+01, -9.99000000e+01, -9.98000000e+01],\n",
              "       [ 3.08310701e+04,  1.49670787e+04, -9.70000000e+00,\n",
              "         1.04800000e+01, -9.99000000e+01, -9.98000000e+01],\n",
              "       [ 7.21627966e+04, -4.68633860e+04, -9.70000000e+00,\n",
              "         1.04800000e+01, -9.99000000e+01, -9.98000000e+01],\n",
              "       [ 2.75928242e+05,  1.24361615e+04, -9.70000000e+00,\n",
              "         1.04800000e+01, -9.99000000e+01, -9.98000000e+01]])"
            ]
          },
          "metadata": {
            "tags": []
          },
          "execution_count": 27
        }
      ]
    },
    {
      "cell_type": "code",
      "metadata": {
        "id": "NnCBRE-2-rEm"
      },
      "source": [
        ""
      ],
      "execution_count": null,
      "outputs": []
    }
  ]
}