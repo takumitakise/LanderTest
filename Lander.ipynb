{
  "nbformat": 4,
  "nbformat_minor": 0,
  "metadata": {
    "colab": {
      "name": "Lander.ipynb",
      "provenance": [],
      "collapsed_sections": [],
      "authorship_tag": "ABX9TyNk4EKgqE4WZUu3hDcqk0Nh",
      "include_colab_link": true
    },
    "kernelspec": {
      "name": "python3",
      "display_name": "Python 3"
    }
  },
  "cells": [
    {
      "cell_type": "markdown",
      "metadata": {
        "id": "view-in-github",
        "colab_type": "text"
      },
      "source": [
        "<a href=\"https://colab.research.google.com/github/takumitakise/LanderTest/blob/main/Lander.ipynb\" target=\"_parent\"><img src=\"https://colab.research.google.com/assets/colab-badge.svg\" alt=\"Open In Colab\"/></a>"
      ]
    },
    {
      "cell_type": "code",
      "metadata": {
        "id": "sqNzTS7uFjKM"
      },
      "source": [
        "import sympy as sy\r\n",
        "import numpy as np"
      ],
      "execution_count": 1,
      "outputs": []
    },
    {
      "cell_type": "code",
      "metadata": {
        "id": "lL3uMMfQG_KZ"
      },
      "source": [
        "x1 = sy.symbols(\"x1\")\r\n",
        "x2 = sy.symbols(\"x2\")\r\n",
        "x3 = sy.symbols(\"x3\")\r\n",
        "x4 = sy.symbols(\"x4\")\r\n",
        "x5 = sy.symbols(\"x5\")\r\n",
        "x6 = sy.symbols(\"x6\")\r\n",
        "x7 = sy.symbols(\"x7\")\r\n",
        "x8 = sy.symbols(\"x8\")\r\n",
        "x9 = sy.symbols(\"x9\")\r\n",
        "x10 = sy.symbols(\"x10\")\r\n",
        "x = sy.Matrix([x1,x2,x3,x4,x5,x6,x7,x8,x9,x10])"
      ],
      "execution_count": 2,
      "outputs": []
    },
    {
      "cell_type": "code",
      "metadata": {
        "id": "oixVAuFRIXG9"
      },
      "source": [
        "u1 = sy.symbols(\"u1\")\r\n",
        "u2 = sy.symbols(\"u2\")\r\n",
        "u3 = sy.symbols(\"u3\")\r\n",
        "u4 = sy.symbols(\"u4\")\r\n",
        "u5 = sy.symbols(\"u5\")\r\n",
        "u6 = sy.symbols(\"u6\")\r\n",
        "u = sy.Matrix([u1,u2,u3,u4,u5,u6])"
      ],
      "execution_count": 3,
      "outputs": []
    },
    {
      "cell_type": "code",
      "metadata": {
        "id": "849IITLMJCad"
      },
      "source": [
        "R = sy.Matrix([[2 * x4**2 - 1 + 2 * x5**2, 2 * ( x5 * x6 + x4 * x7 ), 2 * ( x5 * x7 - x4 * x6 )],\r\n",
        "              [2 * ( x5 * x6 - x4 * x7 ), 2 * x4**2 - 1 + 2 * x6**2, 2 * ( x6 * x7 + x4 * x5 )],\r\n",
        "              [2 * ( x5 * x7 + x4 * x6 ), 2 * ( x6 * x7 - x4 * x5 ), 2 * x4**2 - 1 + 2 * x7**2]])"
      ],
      "execution_count": 4,
      "outputs": []
    },
    {
      "cell_type": "code",
      "metadata": {
        "id": "Ub8UPB72JFdw"
      },
      "source": [
        "m = sy.symbols(\"m\")\r\n",
        "g = sy.symbols(\"g\")\r\n",
        "dx_x = sy.symbols(\"dx_x\")\r\n",
        "dx_y = sy.symbols(\"dx_y\")\r\n",
        "dx_z = sy.symbols(\"dx_z\")\r\n",
        "dy_x = sy.symbols(\"dy_x\")\r\n",
        "dy_y = sy.symbols(\"dy_y\")\r\n",
        "dy_z = sy.symbols(\"dy_z\")\r\n",
        "J1 = sy.symbols(\"J1\")\r\n",
        "J2 = sy.symbols(\"J2\")\r\n",
        "J3 = sy.symbols(\"J3\")\r\n",
        "M = sy.Matrix([[m, 0, 0], [0, m, 0], [0, 0, m]])\r\n",
        "J = sy.Matrix([[J1, 0, 0], [0, J2, 0], [0, 0, J3]])"
      ],
      "execution_count": 5,
      "outputs": []
    },
    {
      "cell_type": "code",
      "metadata": {
        "id": "eXcuy-aWJqN0"
      },
      "source": [
        "Location_2dot = M**(-1) * ( R * sy.Matrix( [0, 0, - m * g] ) + sy.Matrix([u1, u2, 0]) \\\r\n",
        "                            - sy.Matrix([[0, - x10, x9], [x10, 0, - x8], [- x9, x8, 0]]) * M * sy.Matrix([x1, x2, x3]) )"
      ],
      "execution_count": 6,
      "outputs": []
    },
    {
      "cell_type": "code",
      "metadata": {
        "id": "G3o2RTnLJ2Rq"
      },
      "source": [
        "quaternion_dot = 1 / 2 * sy.Matrix([[0, - x8, - x9, - x10], [x8, 0, x10, - x9], [x9, - x10, 0, x8], [x10, x9, - x8, 0]]) \\\r\n",
        "                         * sy.Matrix([x4, x5, x6, x7])"
      ],
      "execution_count": 7,
      "outputs": []
    },
    {
      "cell_type": "code",
      "metadata": {
        "id": "Aei3BtgHJ5tT"
      },
      "source": [
        "omega_dot = J**(-1) * sy.Matrix([[0, - dx_z, dx_y], [dx_z, 0, - dx_x], [-dx_y, dx_x, 0]]) * sy.Matrix([u1, 0, 0])\\\r\n",
        "            + sy.Matrix([[0, - dy_z, dy_y], [dy_z, 0, - dy_x], [- dy_y, dy_x, 0]]) * sy.Matrix([0, u2, 0])\\\r\n",
        "            - sy.Matrix([[0, - x10, x9], [x10, 0, - x8], [- x9, x8, 0]]) * J * sy.Matrix([x8, x9, x10])"
      ],
      "execution_count": 8,
      "outputs": []
    },
    {
      "cell_type": "code",
      "metadata": {
        "id": "Sv1MXd1FKALF"
      },
      "source": [
        "func = sy.Matrix([Location_2dot,quaternion_dot,omega_dot])"
      ],
      "execution_count": 9,
      "outputs": []
    },
    {
      "cell_type": "code",
      "metadata": {
        "id": "dgotiZJfKho3"
      },
      "source": [
        "uxmax = sy.symbols(\"uxmax\")\r\n",
        "uymax = sy.symbols(\"uymax\")\r\n",
        "Cx = sy.Matrix([u1**2 - uxmax**2 + u3**2])\r\n",
        "Cy = sy.Matrix([u2**2 - uymax**2 + u4**2])"
      ],
      "execution_count": 10,
      "outputs": []
    },
    {
      "cell_type": "code",
      "metadata": {
        "id": "4vRGP3HMQYRy"
      },
      "source": [
        "mini = sy.Matrix([x1, x2, x3 - (x1**2 + x2**2 + x3**2)**(1/2)])"
      ],
      "execution_count": 11,
      "outputs": []
    },
    {
      "cell_type": "code",
      "metadata": {
        "id": "IP7s7tVCUUpX"
      },
      "source": [
        "sf1 = sy.symbols(\"sf1\")\r\n",
        "sf2 = sy.symbols(\"sf2\")\r\n",
        "sf3 = sy.symbols(\"sf3\")\r\n",
        "q1 = sy.symbols(\"q1\")\r\n",
        "q2 = sy.symbols(\"q2\")\r\n",
        "q3 = sy.symbols(\"q3\")\r\n",
        "r1 = sy.symbols(\"r1\")\r\n",
        "r2 = sy.symbols(\"r2\")\r\n",
        "r3 = sy.symbols(\"r3\")\r\n",
        "r4 = sy.symbols(\"r4\")\r\n",
        "Sf = sy.Matrix([[sf1, 0, 0],[0, sf2, 0],[0, 0, sf3]])\r\n",
        "Q = sy.Matrix([[q1, 0, 0],[0, q2, 0],[0, 0, q3]])\r\n",
        "r = sy.Matrix([[r1, 0, 0, 0],[0, r2, 0, 0],[0, 0, r3, 0],[0, 0, 0, r4]])"
      ],
      "execution_count": 12,
      "outputs": []
    },
    {
      "cell_type": "code",
      "metadata": {
        "id": "q-LjcLImUvx-"
      },
      "source": [
        "Phi = 1/2 * mini.T * Sf * mini\r\n",
        "L = 1/2 * (mini.T * Q * mini + sy.Matrix([r1 * u1**2 + r2 * u2**2])) - sy.Matrix([r3 * u3 - r4 * u4])\r\n",
        "Phix = Phi.jacobian(x).T"
      ],
      "execution_count": 13,
      "outputs": []
    },
    {
      "cell_type": "code",
      "metadata": {
        "id": "khD5QFr1WRSI"
      },
      "source": [
        "lmd1 = sy.symbols(\"lmd1\")\r\n",
        "lmd2 = sy.symbols(\"lmd2\")\r\n",
        "lmd3 = sy.symbols(\"lmd3\")\r\n",
        "lmd4 = sy.symbols(\"lmd4\")\r\n",
        "lmd5 = sy.symbols(\"lmd5\")\r\n",
        "lmd6 = sy.symbols(\"lmd6\")\r\n",
        "lmd7 = sy.symbols(\"lmd7\")\r\n",
        "lmd8 = sy.symbols(\"lmd8\")\r\n",
        "lmd9 = sy.symbols(\"lmd9\")\r\n",
        "lmd10 = sy.symbols(\"lmd10\")\r\n",
        "Lmd = sy.Matrix([lmd1,lmd2,lmd3,lmd4,lmd5,lmd6,lmd7,lmd8,lmd9,lmd10])"
      ],
      "execution_count": 14,
      "outputs": []
    },
    {
      "cell_type": "code",
      "metadata": {
        "id": "fDVj-kz9Wnde"
      },
      "source": [
        "H = L + (Lmd).T * func + u5 * Cx + u6 * Cy\r\n",
        "Hu = H.jacobian(u).T\r\n",
        "Hx = H.jacobian(x).T\r\n",
        "Huu = Hu.jacobian(u).T"
      ],
      "execution_count": 15,
      "outputs": []
    },
    {
      "cell_type": "code",
      "metadata": {
        "id": "lrMyESzaa9vZ"
      },
      "source": [
        "param = sy.Matrix([m,g,dx_x,dx_y,dx_z,dy_x,dy_y,dy_z,J1,J2,J3,uxmax,uymax])\r\n",
        "contr = sy.Matrix([sf1,sf2,sf3,q1,q2,q3,r1,r2,r3,r4])"
      ],
      "execution_count": 16,
      "outputs": []
    },
    {
      "cell_type": "code",
      "metadata": {
        "id": "JrhFsPvCchKS"
      },
      "source": [
        "func_func = sy.lambdify((x,u,param), func, \"numpy\")\r\n",
        "func_Phix = sy.lambdify((x,param,contr), Phix, \"numpy\")\r\n",
        "func_Hu = sy.lambdify((x,u,Lmd,param,contr), Hu, \"numpy\")\r\n",
        "func_Hx = sy.lambdify((x,u,Lmd,param,contr), Hx, \"numpy\")\r\n",
        "func_Huu = sy.lambdify((x,u,param,contr), Huu, \"numpy\")"
      ],
      "execution_count": 17,
      "outputs": []
    },
    {
      "cell_type": "code",
      "metadata": {
        "id": "CfQ2ljqan1Dc"
      },
      "source": [
        "def GMRES(x_current,du,u,param,contr,len_x,len_u,len_lmd,T,dv,ht,zeta):\r\n",
        "  k = len_u * dv\r\n",
        "  dx = func_func(x_current,u[0:len_u],param)\r\n",
        "  Fxt = CalcF(x_current+dx*ht,u,param,contr,len_x,len_u,len_lmd,T,dv)\r\n",
        "  F = CalcF(x_current,u,param,contr,len_x,len_u,len_lmd,T,dv)\r\n",
        "  Right = -zeta * F - ( Fxt-F ) / ht\r\n",
        "  Fuxt = CalcF(x_current+dx*ht,u+du*ht,param,contr,len_x,len_u,len_lmd,T,dv)\r\n",
        "  Left = ( Fuxt - Fxt ) / ht\r\n",
        "\r\n",
        "  r0 = Right - Left\r\n",
        "  du_new = np.zeros([k, 1])\r\n",
        "  v = np.zeros([k, k + 1])\r\n",
        "  r0_norm = np.linalg.norm(r0)\r\n",
        "  v[:,[0]] = r0 / r0_norm\r\n",
        "  h = np.zeros([k+1,k+1])\r\n",
        "  y = np.zeros([k, 1])\r\n",
        "  y_pre = np.zeros([k, 1])\r\n",
        "  e = np.zeros([k+1,1])\r\n",
        "  e[1] = 1\r\n",
        "\r\n",
        "  for num in range(k):\r\n",
        "    Fuxt = CalcF(x_current+dx*ht,u+v[:,[num+1]]*ht,param,contr,len_x,len_u,len_lmd,T,dv)\r\n",
        "    Av = ( Fuxt - Fxt ) / ht\r\n",
        "    Sum = np.zeros([k, 1])\r\n",
        "\r\n",
        "    for num2 in range(num+1):\r\n",
        "      h[num2,num] = np.dot(Av.T, v[:,num2])\r\n",
        "      Sum = Sum + h[num2,num] * v[:,num2].reshape(1, -1).T\r\n",
        "    \r\n",
        "    v_est = Av - Sum\r\n",
        "    h[num+1,num] = np.linalg.norm(v_est)\r\n",
        "    v[:,[num+1]] = v_est / h[num+1,num]\r\n",
        "    inv_h = np.linalg.pinv(h[0:num+1,0:num])\r\n",
        "    y[0:num] =  np.dot(inv_h, r0_norm * e[:num+1])\r\n",
        "    judge_value = r0_norm * e[:num+1] - np.dot(h[0:num+1, 0:num], y[0:num])\r\n",
        "    if np.linalg.norm(judge_value) < 0.001:\r\n",
        "      du_new = du + np.dot(v[:,0:num], y_pre[0:num])\r\n",
        "      return du_new\r\n",
        "      break"
      ],
      "execution_count": 18,
      "outputs": []
    },
    {
      "cell_type": "code",
      "metadata": {
        "id": "tFZLa6hvoH_i"
      },
      "source": [
        "def Forward(x_current,u,param,len_x,len_u,T,dv):\r\n",
        "  dt = T / dv\r\n",
        "  x = np.zeros([len_x*(dv),1])\r\n",
        "  x[0:len_x] = x_current\r\n",
        "  for num in range(dv-1):\r\n",
        "    x[len_x*(num+1):len_x*(num+2)] = x[len_x*(num+0):len_x*(num+1)] + func_func(x[len_x*(num+0):len_x*(num+1)],u[len_u*(num+0):len_u*(num+1)],param) * dt\r\n",
        "  return x"
      ],
      "execution_count": 19,
      "outputs": []
    },
    {
      "cell_type": "code",
      "metadata": {
        "id": "C14WL2YW1RHX"
      },
      "source": [
        "def Backward(x,u,param,contr,len_x,len_u,len_lmd,T,dv):\r\n",
        "  dt = T / dv\r\n",
        "  lmd = np.zeros([len_lmd*(dv),1])\r\n",
        "  lmd[len_lmd*(dv-1):len_lmd*(dv)] = func_Phix(x[len_x*(dv-1):len_x*(dv)],param,contr)\r\n",
        "  for num in range(0, dv-1)[::-1]:\r\n",
        "    lmd[len_lmd*(num+0):len_lmd*(num+1)] = lmd[len_lmd*(num+1):len_lmd*(num+2)] \\\r\n",
        "                                           + func_Hx(x[len_x*(num+1):len_x*(num+2)],u[len_u*(num+1):len_u*(num+2)],lmd[len_lmd*(num+1):len_lmd*(num+2)],param,contr) * dt\r\n",
        "  return lmd"
      ],
      "execution_count": 20,
      "outputs": []
    },
    {
      "cell_type": "code",
      "metadata": {
        "id": "tDaLASlW-Znq"
      },
      "source": [
        "def CalcF(x_current,u,param,contr,len_x,len_u,len_lmd,T,dv):\r\n",
        "  x = Forward(x_current,u,param,len_x,len_u,T,dv)\r\n",
        "  lmd = Backward(x,u,param,contr,len_x,len_u,len_lmd,T,dv)\r\n",
        "  F = np.zeros([len_u*(dv),1])\r\n",
        "  for num in range(dv):\r\n",
        "    F[len_u*(num):len_u*(num+1)] = func_Hu(x[len_x*(num):len_x*(num+1)],u[len_u*(num):len_u*(num+1)],lmd[len_lmd*(num):len_lmd*(num+1)],param,contr)\r\n",
        "  return F"
      ],
      "execution_count": 21,
      "outputs": []
    },
    {
      "cell_type": "code",
      "metadata": {
        "id": "7V5l4MWLpaof"
      },
      "source": [
        "parapa = [50,3.71,0,0,-1,0,0,-1,1,1,4,10,10]\r\n",
        "concon = [5,5,5,10,10,10,100,100,10,10]\r\n",
        "len_x = 10\r\n",
        "len_u = 6\r\n",
        "len_lmd = len_x\r\n",
        "dv = 10\r\n",
        "T = 1\r\n",
        "x_current = np.array([1, 2, 3, 4, 5, 6, 7, 8, 9, 10]).reshape(1, -1).T\r\n",
        "uu = np.array([1, 2, 3, 4, 5, 6, 7, 8, 9, 10,11, 12, 13, 14, 15, 16, 17, 18, 19, 20,21, 22, 23, 24, 25, 26, 27, 28, 29, 30,31, 32, 33, 34, 35, 36, 37, 38, 39, 40,41, 42, 43, 44, 45, 46, 47, 48, 49, 50,51, 52, 53, 54, 55, 56, 57, 58, 59, 60]).reshape(1, -1).T\r\n",
        "duu = uu\r\n",
        "ht = 0.1\r\n",
        "zeta = 10"
      ],
      "execution_count": 22,
      "outputs": []
    },
    {
      "cell_type": "code",
      "metadata": {
        "id": "_r5EYFATv-jo",
        "colab": {
          "base_uri": "https://localhost:8080/"
        },
        "outputId": "d5e35931-1220-49c0-908a-05a9c59b947f"
      },
      "source": [
        "ii = Forward(x_current,uu,parapa,len_x,len_u,T,dv)\r\n",
        "ii"
      ],
      "execution_count": 26,
      "outputs": [
        {
          "output_type": "execute_result",
          "data": {
            "text/plain": [
              "array([[ 1.00000000e+00],\n",
              "       [ 2.00000000e+00],\n",
              "       [ 3.00000000e+00],\n",
              "       [ 4.00000000e+00],\n",
              "       [ 5.00000000e+00],\n",
              "       [ 6.00000000e+00],\n",
              "       [ 7.00000000e+00],\n",
              "       [ 8.00000000e+00],\n",
              "       [ 9.00000000e+00],\n",
              "       [ 1.00000000e+01],\n",
              "       [-7.86000000e+00],\n",
              "       [-4.26000000e+01],\n",
              "       [-4.55590000e+01],\n",
              "       [-4.20000000e+00],\n",
              "       [ 6.45000000e+00],\n",
              "       [ 8.10000000e+00],\n",
              "       [ 8.85000000e+00],\n",
              "       [-1.88000000e+01],\n",
              "       [ 3.29000000e+01],\n",
              "       [ 1.00000000e+01],\n",
              "       [ 3.18450550e+01],\n",
              "       [ 1.78374300e+01],\n",
              "       [-2.22339575e+02],\n",
              "       [-1.58865000e+01],\n",
              "       [-1.10250000e-01],\n",
              "       [-1.03530000e+01],\n",
              "       [ 2.49742500e+01],\n",
              "       [-1.16700000e+02],\n",
              "       [-2.42000000e+01],\n",
              "       [ 1.00000000e+01],\n",
              "       [-3.64271338e+02],\n",
              "       [ 2.77127395e+03],\n",
              "       [-7.40932582e+02],\n",
              "       [-4.15440638e+01],\n",
              "       [ 1.17629820e+02],\n",
              "       [-1.36799959e+02],\n",
              "       [-4.32453525e+01],\n",
              "       [-4.27000000e+01],\n",
              "       [-3.75600000e+02],\n",
              "       [ 1.00000000e+01],\n",
              "       [-1.74309216e+04],\n",
              "       [ 5.53574427e+03],\n",
              "       [ 2.21065259e+04],\n",
              "       [-2.33788495e+03],\n",
              "       [-6.74221303e+02],\n",
              "       [ 6.76911476e+02],\n",
              "       [-2.56517332e+03],\n",
              "       [ 1.08610000e+03],\n",
              "       [-5.05600000e+02],\n",
              "       [ 1.00000000e+01],\n",
              "       [-1.35171963e+06],\n",
              "       [ 2.54278291e+06],\n",
              "       [-8.63582146e+06],\n",
              "       [ 5.26706117e+04],\n",
              "       [-1.92142189e+05],\n",
              "       [-7.91859833e+04],\n",
              "       [-2.34494790e+04],\n",
              "       [ 2.60550000e+03],\n",
              "       [ 2.75020000e+03],\n",
              "       [ 1.00000000e+01],\n",
              "       [-4.06168035e+09],\n",
              "       [ 3.88525664e+09],\n",
              "       [-3.50936882e+09],\n",
              "       [ 3.59845836e+07],\n",
              "       [ 9.85446661e+06],\n",
              "       [ 4.20474006e+06],\n",
              "       [-1.61026326e+07],\n",
              "       [-5.64190000e+03],\n",
              "       [ 1.05636000e+04],\n",
              "       [ 1.00000000e+01],\n",
              "       [ 2.33718578e+14],\n",
              "       [-2.10893010e+14],\n",
              "       [-1.15530738e+15],\n",
              "       [ 6.03072056e+08],\n",
              "       [-1.63402578e+09],\n",
              "       [ 2.35480870e+10],\n",
              "       [ 6.39295798e+09],\n",
              "       [-3.73289000e+04],\n",
              "       [-6.36580000e+03],\n",
              "       [ 1.00000000e+01],\n",
              "       [ 1.75529862e+19],\n",
              "       [-1.06658729e+20],\n",
              "       [-3.15325131e+19],\n",
              "       [ 4.44270796e+12],\n",
              "       [ 9.19353790e+11],\n",
              "       [-1.20996912e+13],\n",
              "       [ 4.44779978e+13],\n",
              "       [-1.82271000e+04],\n",
              "       [-1.18356800e+05],\n",
              "       [ 1.00000000e+01],\n",
              "       [-7.06009341e+25],\n",
              "       [ 3.96348878e+26],\n",
              "       [-1.48294041e+27],\n",
              "       [-7.07839749e+16],\n",
              "       [ 2.59159660e+17],\n",
              "       [-6.68390400e+16],\n",
              "       [-1.64210033e+16],\n",
              "       [ 3.36848300e+05],\n",
              "       [-1.73043000e+05],\n",
              "       [ 1.00000000e+01]])"
            ]
          },
          "metadata": {
            "tags": []
          },
          "execution_count": 26
        }
      ]
    },
    {
      "cell_type": "code",
      "metadata": {
        "id": "RhsBqJA75YYZ",
        "colab": {
          "base_uri": "https://localhost:8080/"
        },
        "outputId": "f0a9c7f7-1dcc-4234-b683-345d05311126"
      },
      "source": [
        "rr = Backward(ii,uu,parapa,concon,len_x,len_u,len_lmd,T,dv)\r\n",
        "rr"
      ],
      "execution_count": 27,
      "outputs": [
        {
          "output_type": "execute_result",
          "data": {
            "text/plain": [
              "array([[-3.24930158e+49],\n",
              "       [-3.46089703e+49],\n",
              "       [ 1.31942453e+49],\n",
              "       [-3.26784509e+61],\n",
              "       [-2.09727039e+61],\n",
              "       [-2.76723745e+61],\n",
              "       [ 6.68086610e+61],\n",
              "       [-4.47927889e+61],\n",
              "       [ 7.37568373e+61],\n",
              "       [ 9.66905812e+62],\n",
              "       [-2.20656821e+48],\n",
              "       [-9.60645677e+48],\n",
              "       [-1.21255028e+49],\n",
              "       [-8.32214623e+60],\n",
              "       [-2.35537660e+61],\n",
              "       [-2.76348303e+61],\n",
              "       [-2.07509764e+60],\n",
              "       [-2.05524168e+61],\n",
              "       [-6.82751909e+60],\n",
              "       [ 7.22054973e+62],\n",
              "       [-3.27301210e+48],\n",
              "       [ 3.11517401e+47],\n",
              "       [-5.69405490e+47],\n",
              "       [-4.84636956e+60],\n",
              "       [ 2.36054440e+59],\n",
              "       [ 1.71921016e+59],\n",
              "       [-3.78074916e+60],\n",
              "       [-6.87083641e+59],\n",
              "       [-5.96956290e+60],\n",
              "       [ 5.09115183e+62],\n",
              "       [-2.21050102e+46],\n",
              "       [-4.05682036e+46],\n",
              "       [ 8.76324626e+46],\n",
              "       [ 2.16643024e+57],\n",
              "       [-1.68295741e+59],\n",
              "       [ 2.76545459e+59],\n",
              "       [-2.86473686e+58],\n",
              "       [ 1.44026385e+60],\n",
              "       [-5.56758955e+59],\n",
              "       [ 3.40105337e+62],\n",
              "       [-1.67855883e+45],\n",
              "       [ 1.58482403e+45],\n",
              "       [ 3.72658768e+44],\n",
              "       [ 4.49853265e+57],\n",
              "       [-1.77352019e+56],\n",
              "       [-3.48187109e+56],\n",
              "       [-3.00634226e+57],\n",
              "       [ 2.69288671e+59],\n",
              "       [ 2.84061342e+59],\n",
              "       [ 2.05793265e+62],\n",
              "       [-2.74348672e+42],\n",
              "       [-1.44216571e+42],\n",
              "       [-6.09867467e+42],\n",
              "       [ 2.14552760e+54],\n",
              "       [ 2.78440965e+55],\n",
              "       [ 6.31747327e+54],\n",
              "       [ 5.63386146e+53],\n",
              "       [-5.14561463e+58],\n",
              "       [ 7.73268927e+58],\n",
              "       [ 1.02941842e+62],\n",
              "       [-2.71098631e+39],\n",
              "       [ 1.58809491e+40],\n",
              "       [-2.57951341e+39],\n",
              "       [ 1.26056176e+52],\n",
              "       [-2.43146545e+51],\n",
              "       [ 2.69609200e+51],\n",
              "       [ 4.59916975e+52],\n",
              "       [-1.92298355e+58],\n",
              "       [-3.26686657e+57],\n",
              "       [ 3.63804955e+61],\n",
              "       [-2.12835934e+36],\n",
              "       [ 3.29207996e+35],\n",
              "       [ 4.25481282e+36],\n",
              "       [-1.02943956e+48],\n",
              "       [-2.47986611e+48],\n",
              "       [-2.50631087e+49],\n",
              "       [ 1.63415363e+48],\n",
              "       [ 4.01156219e+56],\n",
              "       [-3.17889290e+57],\n",
              "       [ 1.96080402e+58],\n",
              "       [ 5.13380007e+32],\n",
              "       [ 9.99373705e+32],\n",
              "       [ 1.79784630e+32],\n",
              "       [-4.19447327e+45],\n",
              "       [ 2.95864826e+44],\n",
              "       [ 1.26569137e+44],\n",
              "       [-2.30285515e+44],\n",
              "       [ 3.04518043e+53],\n",
              "       [ 5.42432677e+52],\n",
              "       [ 0.00000000e+00],\n",
              "       [-1.04668316e+27],\n",
              "       [ 5.87600860e+27],\n",
              "       [-2.96681830e+28],\n",
              "       [ 0.00000000e+00],\n",
              "       [ 0.00000000e+00],\n",
              "       [ 0.00000000e+00],\n",
              "       [ 0.00000000e+00],\n",
              "       [ 0.00000000e+00],\n",
              "       [ 0.00000000e+00],\n",
              "       [ 0.00000000e+00]])"
            ]
          },
          "metadata": {
            "tags": []
          },
          "execution_count": 27
        }
      ]
    },
    {
      "cell_type": "code",
      "metadata": {
        "id": "G43n6t5m_eSU",
        "colab": {
          "base_uri": "https://localhost:8080/"
        },
        "outputId": "555e2e76-c82b-40c9-b52f-459a1f353ff5"
      },
      "source": [
        "jj = CalcF(x_current,uu,parapa,concon,len_x,len_u,len_lmd,T,dv)\r\n",
        "jj"
      ],
      "execution_count": 24,
      "outputs": [
        {
          "output_type": "execute_result",
          "data": {
            "text/plain": [
              "array([[-7.37568373e+61],\n",
              "       [-4.47927889e+61],\n",
              "       [ 2.00000000e+01],\n",
              "       [ 5.80000000e+01],\n",
              "       [-9.00000000e+01],\n",
              "       [-8.00000000e+01],\n",
              "       [ 6.82751909e+60],\n",
              "       [-2.05524168e+61],\n",
              "       [ 1.88000000e+02],\n",
              "       [ 2.50000000e+02],\n",
              "       [ 3.00000000e+01],\n",
              "       [ 6.40000000e+01],\n",
              "       [ 5.96956290e+60],\n",
              "       [-6.87083641e+59],\n",
              "       [ 5.00000000e+02],\n",
              "       [ 5.86000000e+02],\n",
              "       [ 2.94000000e+02],\n",
              "       [ 3.52000000e+02],\n",
              "       [ 5.56758955e+59],\n",
              "       [ 1.44026385e+60],\n",
              "       [ 9.56000000e+02],\n",
              "       [ 1.06600000e+03],\n",
              "       [ 7.02000000e+02],\n",
              "       [ 7.84000000e+02],\n",
              "       [-2.84061342e+59],\n",
              "       [ 2.69288671e+59],\n",
              "       [ 1.55600000e+03],\n",
              "       [ 1.69000000e+03],\n",
              "       [ 1.25400000e+03],\n",
              "       [ 1.36000000e+03],\n",
              "       [-7.73268927e+58],\n",
              "       [-5.14561463e+58],\n",
              "       [ 2.30000000e+03],\n",
              "       [ 2.45800000e+03],\n",
              "       [ 1.95000000e+03],\n",
              "       [ 2.08000000e+03],\n",
              "       [ 3.26686657e+57],\n",
              "       [-1.92298355e+58],\n",
              "       [ 3.18800000e+03],\n",
              "       [ 3.37000000e+03],\n",
              "       [ 2.79000000e+03],\n",
              "       [ 2.94400000e+03],\n",
              "       [ 3.17889290e+57],\n",
              "       [ 4.01156219e+56],\n",
              "       [ 4.22000000e+03],\n",
              "       [ 4.42600000e+03],\n",
              "       [ 3.77400000e+03],\n",
              "       [ 3.95200000e+03],\n",
              "       [-5.42432677e+52],\n",
              "       [ 3.04518043e+53],\n",
              "       [ 5.39600000e+03],\n",
              "       [ 5.62600000e+03],\n",
              "       [ 4.90200000e+03],\n",
              "       [ 5.10400000e+03],\n",
              "       [-2.09336632e+25],\n",
              "       [ 1.17520172e+26],\n",
              "       [ 6.71600000e+03],\n",
              "       [ 6.97000000e+03],\n",
              "       [ 6.17400000e+03],\n",
              "       [ 6.40000000e+03]])"
            ]
          },
          "metadata": {
            "tags": []
          },
          "execution_count": 24
        }
      ]
    },
    {
      "cell_type": "code",
      "metadata": {
        "colab": {
          "base_uri": "https://localhost:8080/"
        },
        "id": "9tw39oFmIUHy",
        "outputId": "1014e004-498a-486a-a904-bdb592e4cd86"
      },
      "source": [
        "ww = GMRES(x_current,duu,uu,parapa,concon,len_x,len_u,len_lmd,T,dv,ht,zeta)\r\n",
        "ww"
      ],
      "execution_count": 23,
      "outputs": [
        {
          "output_type": "stream",
          "text": [
            "/usr/local/lib/python3.6/dist-packages/ipykernel_launcher.py:32: RuntimeWarning: invalid value encountered in true_divide\n"
          ],
          "name": "stderr"
        },
        {
          "output_type": "execute_result",
          "data": {
            "text/plain": [
              "array([[ 1.],\n",
              "       [ 2.],\n",
              "       [ 3.],\n",
              "       [ 4.],\n",
              "       [ 5.],\n",
              "       [ 6.],\n",
              "       [ 7.],\n",
              "       [ 8.],\n",
              "       [ 9.],\n",
              "       [10.],\n",
              "       [11.],\n",
              "       [12.],\n",
              "       [13.],\n",
              "       [14.],\n",
              "       [15.],\n",
              "       [16.],\n",
              "       [17.],\n",
              "       [18.],\n",
              "       [19.],\n",
              "       [20.],\n",
              "       [21.],\n",
              "       [22.],\n",
              "       [23.],\n",
              "       [24.],\n",
              "       [25.],\n",
              "       [26.],\n",
              "       [27.],\n",
              "       [28.],\n",
              "       [29.],\n",
              "       [30.],\n",
              "       [31.],\n",
              "       [32.],\n",
              "       [33.],\n",
              "       [34.],\n",
              "       [35.],\n",
              "       [36.],\n",
              "       [37.],\n",
              "       [38.],\n",
              "       [39.],\n",
              "       [40.],\n",
              "       [41.],\n",
              "       [42.],\n",
              "       [43.],\n",
              "       [44.],\n",
              "       [45.],\n",
              "       [46.],\n",
              "       [47.],\n",
              "       [48.],\n",
              "       [49.],\n",
              "       [50.],\n",
              "       [51.],\n",
              "       [52.],\n",
              "       [53.],\n",
              "       [54.],\n",
              "       [55.],\n",
              "       [56.],\n",
              "       [57.],\n",
              "       [58.],\n",
              "       [59.],\n",
              "       [60.]])"
            ]
          },
          "metadata": {
            "tags": []
          },
          "execution_count": 23
        }
      ]
    }
  ]
}